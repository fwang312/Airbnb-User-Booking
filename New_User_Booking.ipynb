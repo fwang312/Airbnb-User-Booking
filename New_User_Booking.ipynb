{
  "nbformat": 4,
  "nbformat_minor": 0,
  "metadata": {
    "colab": {
      "name": "New User Booking.ipynb",
      "provenance": [],
      "authorship_tag": "ABX9TyNekFMYsWcC/ujvoPveli92",
      "include_colab_link": true
    },
    "kernelspec": {
      "name": "python3",
      "display_name": "Python 3"
    },
    "accelerator": "TPU"
  },
  "cells": [
    {
      "cell_type": "markdown",
      "metadata": {
        "id": "view-in-github",
        "colab_type": "text"
      },
      "source": [
        "<a href=\"https://colab.research.google.com/github/fwang312/Airbnb-User-Booking/blob/master/New_User_Booking.ipynb\" target=\"_parent\"><img src=\"https://colab.research.google.com/assets/colab-badge.svg\" alt=\"Open In Colab\"/></a>"
      ]
    },
    {
      "cell_type": "markdown",
      "metadata": {
        "id": "Wfj5VcSKhEC2",
        "colab_type": "text"
      },
      "source": [
        "# DA 1912 New User Booking Project\n",
        "\n",
        " Airbnb​​ ​ is​ ​ an​ ​ online​ ​ marketplace​ ​ and​ ​ hospitality​ ​ service,​ ​ enabling​ ​ people​ ​ to​ ​ lease​ ​ or​ ​ rent​ ​ short-term\n",
        "lodging​ ​ including​ ​ vacation​ ​ rentals​ ​ , ​ ​ apartment​ ​ rentals,​ ​ homestays​ ​ , ​ ​ hostels​ ​ beds,​ ​ or​ ​ hotel​ ​ roo​ ms.\n",
        "New​ ​ users​ ​ on​ ​ Airbnb​ ​ can​ ​ book​ ​ a ​ ​ place​ ​ to​ ​ stay​ ​ in​ ​ 34,000+​ ​ cities​ ​ across​ ​ 190+​ ​ countries.​ ​ \n",
        "\n",
        "- **Objective :**\n",
        "\n",
        "   To predict travel destinations of users\n",
        "   \n",
        "-  **Dataset** -- Train_users.csv\n",
        " \n",
        "    There are 16 features used to describe each user in the dataset:\n",
        "    *         user id\n",
        "    *         the date of account creation\n",
        "    *         timestamp of the first activity, note that it can be earlier than\n",
        "    *         date of first booking\n",
        "    *         gender\n",
        "    *         age\n",
        "    *         signup_method\n",
        "    *         the page a user came to signup up from\n",
        "    *         international language preference\n",
        "    *         what kind of paid marketing\n",
        "    *         where the marketing is e.g. google, craigslist, other\n",
        "    *         whats the first marketing the user interacted with before the signing up\n",
        "    *         signup_app\n",
        "    *         first_device_type\n",
        "    *         first_browser"
      ]
    },
    {
      "cell_type": "code",
      "metadata": {
        "id": "FbMV3rHDeC8A",
        "colab_type": "code",
        "colab": {}
      },
      "source": [
        ""
      ],
      "execution_count": 0,
      "outputs": []
    }
  ]
}