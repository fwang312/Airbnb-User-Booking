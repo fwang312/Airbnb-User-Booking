{
  "nbformat": 4,
  "nbformat_minor": 0,
  "metadata": {
    "colab": {
      "name": "New User Booking.ipynb",
      "provenance": [],
      "authorship_tag": "ABX9TyNt8jA2nECM4/QZrdnpiW66",
      "include_colab_link": true
    },
    "kernelspec": {
      "name": "python3",
      "display_name": "Python 3"
    },
    "accelerator": "TPU"
  },
  "cells": [
    {
      "cell_type": "markdown",
      "metadata": {
        "id": "view-in-github",
        "colab_type": "text"
      },
      "source": [
        "<a href=\"https://colab.research.google.com/github/fwang312/Airbnb-User-Booking/blob/master/New_User_Booking.ipynb\" target=\"_parent\"><img src=\"https://colab.research.google.com/assets/colab-badge.svg\" alt=\"Open In Colab\"/></a>"
      ]
    },
    {
      "cell_type": "markdown",
      "metadata": {
        "id": "Wfj5VcSKhEC2",
        "colab_type": "text"
      },
      "source": [
        "# DA 1912 New User Booking Project\n",
        "\n",
        " Airbnb​​ ​ is​ ​ an​ ​ online​ ​ marketplace​ ​ and​ ​ hospitality​ ​ service,​ ​ enabling​ ​ people​ ​ to​ ​ lease​ ​ or​ ​ rent​ ​ short-term\n",
        "lodging​ ​ including​ ​ vacation​ ​ rentals​ ​ , ​ ​ apartment​ ​ rentals,​ ​ homestays​ ​ , ​ ​ hostels​ ​ beds,​ ​ or​ ​ hotel​ ​ roo​ ms.\n",
        "New​ ​ users​ ​ on​ ​ Airbnb​ ​ can​ ​ book​ ​ a ​ ​ place​ ​ to​ ​ stay​ ​ in​ ​ 34,000+​ ​ cities​ ​ across​ ​ 190+​ ​ countries.​ ​ \n",
        "\n",
        "- **Objective :**\n",
        "\n",
        "   To predict travel destinations of users\n",
        "   \n",
        "-  **Dataset** -- Train_users.csv\n",
        " \n",
        "    There are 16 features used to describe each user in the dataset:\n",
        "    *         user id\n",
        "    *         the date of account creation\n",
        "    *         timestamp of the first activity, note that it can be earlier than\n",
        "    *         date of first booking\n",
        "    *         gender\n",
        "    *         age\n",
        "    *         signup_method\n",
        "    *         the page a user came to signup up from\n",
        "    *         international language preference\n",
        "    *         what kind of paid marketing\n",
        "    *         where the marketing is e.g. google, craigslist, other\n",
        "    *         whats the first marketing the user interacted with before the signing up\n",
        "    *         signup_app\n",
        "    *         first_device_type\n",
        "    *         first_browser"
      ]
    },
    {
      "cell_type": "code",
      "metadata": {
        "id": "OvpZ7Q_LiIz_",
        "colab_type": "code",
        "colab": {}
      },
      "source": [
        "import numpy as np\n",
        "import pandas as pd\n",
        "import time\n",
        "import random\n",
        "import datetime as dt\n",
        "import matplotlib.pyplot as plt\n",
        "import matplotlib\n",
        "import seaborn as sns\n",
        "pd.set_option('display.max_columns', None)"
      ],
      "execution_count": 0,
      "outputs": []
    },
    {
      "cell_type": "markdown",
      "metadata": {
        "id": "jNB1lvJAiDqc",
        "colab_type": "text"
      },
      "source": [
        "## Load Data\n",
        "\n"
      ]
    },
    {
      "cell_type": "code",
      "metadata": {
        "id": "FbMV3rHDeC8A",
        "colab_type": "code",
        "colab": {
          "base_uri": "https://localhost:8080/",
          "height": 122
        },
        "outputId": "36c27d87-8984-41ec-8647-6566de61e191"
      },
      "source": [
        "from google.colab import drive \n",
        "drive.mount('/content/gdrive')"
      ],
      "execution_count": 3,
      "outputs": [
        {
          "output_type": "stream",
          "text": [
            "Go to this URL in a browser: https://accounts.google.com/o/oauth2/auth?client_id=947318989803-6bn6qk8qdgf4n4g3pfee6491hc0brc4i.apps.googleusercontent.com&redirect_uri=urn%3aietf%3awg%3aoauth%3a2.0%3aoob&response_type=code&scope=email%20https%3a%2f%2fwww.googleapis.com%2fauth%2fdocs.test%20https%3a%2f%2fwww.googleapis.com%2fauth%2fdrive%20https%3a%2f%2fwww.googleapis.com%2fauth%2fdrive.photos.readonly%20https%3a%2f%2fwww.googleapis.com%2fauth%2fpeopleapi.readonly\n",
            "\n",
            "Enter your authorization code:\n",
            "··········\n",
            "Mounted at /content/gdrive\n"
          ],
          "name": "stdout"
        }
      ]
    },
    {
      "cell_type": "code",
      "metadata": {
        "id": "sySA80VRmYam",
        "colab_type": "code",
        "colab": {
          "base_uri": "https://localhost:8080/",
          "height": 102
        },
        "outputId": "a141670c-6576-4aed-defc-d1bf5378ed88"
      },
      "source": [
        "import os\n",
        "os.chdir(\"/content/gdrive/My Drive/Project/New User Booking\")\n",
        "!ls"
      ],
      "execution_count": 33,
      "outputs": [
        {
          "output_type": "stream",
          "text": [
            "'DA1912_DAL_airbnb_Project__Sample_v10.5_edit (1).twbx'\n",
            "'DA_1912_Project_4_Instruction (1).pdf'\n",
            "'New User Booking.ipynb'\n",
            " New_User_Booking__Sample_Code.ipynb\n",
            " train_users.csv\n"
          ],
          "name": "stdout"
        }
      ]
    },
    {
      "cell_type": "code",
      "metadata": {
        "id": "SKokirCLnP0K",
        "colab_type": "code",
        "colab": {}
      },
      "source": [
        "df = pd.read_csv('train_users.csv')"
      ],
      "execution_count": 0,
      "outputs": []
    },
    {
      "cell_type": "code",
      "metadata": {
        "id": "1HlMze3dngQ3",
        "colab_type": "code",
        "colab": {
          "base_uri": "https://localhost:8080/",
          "height": 258
        },
        "outputId": "4fb4932b-e443-417c-c719-11b6a261613e"
      },
      "source": [
        "df.head()"
      ],
      "execution_count": 60,
      "outputs": [
        {
          "output_type": "execute_result",
          "data": {
            "text/html": [
              "<div>\n",
              "<style scoped>\n",
              "    .dataframe tbody tr th:only-of-type {\n",
              "        vertical-align: middle;\n",
              "    }\n",
              "\n",
              "    .dataframe tbody tr th {\n",
              "        vertical-align: top;\n",
              "    }\n",
              "\n",
              "    .dataframe thead th {\n",
              "        text-align: right;\n",
              "    }\n",
              "</style>\n",
              "<table border=\"1\" class=\"dataframe\">\n",
              "  <thead>\n",
              "    <tr style=\"text-align: right;\">\n",
              "      <th></th>\n",
              "      <th>id</th>\n",
              "      <th>date_account_created</th>\n",
              "      <th>timestamp_first_active</th>\n",
              "      <th>date_first_booking</th>\n",
              "      <th>gender</th>\n",
              "      <th>age</th>\n",
              "      <th>signup_method</th>\n",
              "      <th>signup_flow</th>\n",
              "      <th>language</th>\n",
              "      <th>affiliate_channel</th>\n",
              "      <th>affiliate_provider</th>\n",
              "      <th>first_affiliate_tracked</th>\n",
              "      <th>signup_app</th>\n",
              "      <th>first_device_type</th>\n",
              "      <th>first_browser</th>\n",
              "      <th>country_destination</th>\n",
              "    </tr>\n",
              "  </thead>\n",
              "  <tbody>\n",
              "    <tr>\n",
              "      <th>0</th>\n",
              "      <td>gxn3p5htnn</td>\n",
              "      <td>6/28/10</td>\n",
              "      <td>2.009030e+13</td>\n",
              "      <td>NaN</td>\n",
              "      <td>-unknown-</td>\n",
              "      <td>NaN</td>\n",
              "      <td>facebook</td>\n",
              "      <td>0</td>\n",
              "      <td>en</td>\n",
              "      <td>direct</td>\n",
              "      <td>direct</td>\n",
              "      <td>untracked</td>\n",
              "      <td>Web</td>\n",
              "      <td>Mac Desktop</td>\n",
              "      <td>Chrome</td>\n",
              "      <td>NDF</td>\n",
              "    </tr>\n",
              "    <tr>\n",
              "      <th>1</th>\n",
              "      <td>820tgsjxq7</td>\n",
              "      <td>5/25/11</td>\n",
              "      <td>2.009050e+13</td>\n",
              "      <td>NaN</td>\n",
              "      <td>MALE</td>\n",
              "      <td>38.0</td>\n",
              "      <td>facebook</td>\n",
              "      <td>0</td>\n",
              "      <td>en</td>\n",
              "      <td>seo</td>\n",
              "      <td>google</td>\n",
              "      <td>untracked</td>\n",
              "      <td>Web</td>\n",
              "      <td>Mac Desktop</td>\n",
              "      <td>Chrome</td>\n",
              "      <td>NDF</td>\n",
              "    </tr>\n",
              "    <tr>\n",
              "      <th>2</th>\n",
              "      <td>4ft3gnwmtx</td>\n",
              "      <td>9/28/10</td>\n",
              "      <td>2.009060e+13</td>\n",
              "      <td>8/2/10</td>\n",
              "      <td>FEMALE</td>\n",
              "      <td>56.0</td>\n",
              "      <td>basic</td>\n",
              "      <td>3</td>\n",
              "      <td>en</td>\n",
              "      <td>direct</td>\n",
              "      <td>direct</td>\n",
              "      <td>untracked</td>\n",
              "      <td>Web</td>\n",
              "      <td>Windows Desktop</td>\n",
              "      <td>IE</td>\n",
              "      <td>US</td>\n",
              "    </tr>\n",
              "    <tr>\n",
              "      <th>3</th>\n",
              "      <td>bjjt8pjhuk</td>\n",
              "      <td>12/5/11</td>\n",
              "      <td>2.009100e+13</td>\n",
              "      <td>9/8/12</td>\n",
              "      <td>FEMALE</td>\n",
              "      <td>42.0</td>\n",
              "      <td>facebook</td>\n",
              "      <td>0</td>\n",
              "      <td>en</td>\n",
              "      <td>direct</td>\n",
              "      <td>direct</td>\n",
              "      <td>untracked</td>\n",
              "      <td>Web</td>\n",
              "      <td>Mac Desktop</td>\n",
              "      <td>Firefox</td>\n",
              "      <td>other</td>\n",
              "    </tr>\n",
              "    <tr>\n",
              "      <th>4</th>\n",
              "      <td>87mebub9p4</td>\n",
              "      <td>9/14/10</td>\n",
              "      <td>2.009120e+13</td>\n",
              "      <td>2/18/10</td>\n",
              "      <td>-unknown-</td>\n",
              "      <td>41.0</td>\n",
              "      <td>basic</td>\n",
              "      <td>0</td>\n",
              "      <td>en</td>\n",
              "      <td>direct</td>\n",
              "      <td>direct</td>\n",
              "      <td>untracked</td>\n",
              "      <td>Web</td>\n",
              "      <td>Mac Desktop</td>\n",
              "      <td>Chrome</td>\n",
              "      <td>US</td>\n",
              "    </tr>\n",
              "  </tbody>\n",
              "</table>\n",
              "</div>"
            ],
            "text/plain": [
              "           id date_account_created  timestamp_first_active date_first_booking  \\\n",
              "0  gxn3p5htnn              6/28/10            2.009030e+13                NaN   \n",
              "1  820tgsjxq7              5/25/11            2.009050e+13                NaN   \n",
              "2  4ft3gnwmtx              9/28/10            2.009060e+13             8/2/10   \n",
              "3  bjjt8pjhuk              12/5/11            2.009100e+13             9/8/12   \n",
              "4  87mebub9p4              9/14/10            2.009120e+13            2/18/10   \n",
              "\n",
              "      gender   age signup_method  signup_flow language affiliate_channel  \\\n",
              "0  -unknown-   NaN      facebook            0       en            direct   \n",
              "1       MALE  38.0      facebook            0       en               seo   \n",
              "2     FEMALE  56.0         basic            3       en            direct   \n",
              "3     FEMALE  42.0      facebook            0       en            direct   \n",
              "4  -unknown-  41.0         basic            0       en            direct   \n",
              "\n",
              "  affiliate_provider first_affiliate_tracked signup_app first_device_type  \\\n",
              "0             direct               untracked        Web       Mac Desktop   \n",
              "1             google               untracked        Web       Mac Desktop   \n",
              "2             direct               untracked        Web   Windows Desktop   \n",
              "3             direct               untracked        Web       Mac Desktop   \n",
              "4             direct               untracked        Web       Mac Desktop   \n",
              "\n",
              "  first_browser country_destination  \n",
              "0        Chrome                 NDF  \n",
              "1        Chrome                 NDF  \n",
              "2            IE                  US  \n",
              "3       Firefox               other  \n",
              "4        Chrome                  US  "
            ]
          },
          "metadata": {
            "tags": []
          },
          "execution_count": 60
        }
      ]
    },
    {
      "cell_type": "code",
      "metadata": {
        "id": "4KLQzf0bnhun",
        "colab_type": "code",
        "colab": {
          "base_uri": "https://localhost:8080/",
          "height": 136
        },
        "outputId": "73448120-107f-4665-c3c0-a2f3d090f6c1"
      },
      "source": [
        "print(df.shape)\n",
        "\n",
        "print(df.columns)"
      ],
      "execution_count": 61,
      "outputs": [
        {
          "output_type": "stream",
          "text": [
            "(213451, 16)\n",
            "Index(['id', 'date_account_created', 'timestamp_first_active',\n",
            "       'date_first_booking', 'gender', 'age', 'signup_method', 'signup_flow',\n",
            "       'language', 'affiliate_channel', 'affiliate_provider',\n",
            "       'first_affiliate_tracked', 'signup_app', 'first_device_type',\n",
            "       'first_browser', 'country_destination'],\n",
            "      dtype='object')\n"
          ],
          "name": "stdout"
        }
      ]
    },
    {
      "cell_type": "code",
      "metadata": {
        "id": "DNiytW1VnmEK",
        "colab_type": "code",
        "colab": {
          "base_uri": "https://localhost:8080/",
          "height": 374
        },
        "outputId": "73859883-2be8-4be2-ec2c-b9a3d05ba4d2"
      },
      "source": [
        "df.info()"
      ],
      "execution_count": 62,
      "outputs": [
        {
          "output_type": "stream",
          "text": [
            "<class 'pandas.core.frame.DataFrame'>\n",
            "RangeIndex: 213451 entries, 0 to 213450\n",
            "Data columns (total 16 columns):\n",
            "id                         213451 non-null object\n",
            "date_account_created       213451 non-null object\n",
            "timestamp_first_active     213451 non-null float64\n",
            "date_first_booking         88908 non-null object\n",
            "gender                     213451 non-null object\n",
            "age                        125461 non-null float64\n",
            "signup_method              213451 non-null object\n",
            "signup_flow                213451 non-null int64\n",
            "language                   213451 non-null object\n",
            "affiliate_channel          213451 non-null object\n",
            "affiliate_provider         213451 non-null object\n",
            "first_affiliate_tracked    207386 non-null object\n",
            "signup_app                 213451 non-null object\n",
            "first_device_type          213451 non-null object\n",
            "first_browser              213451 non-null object\n",
            "country_destination        213451 non-null object\n",
            "dtypes: float64(2), int64(1), object(13)\n",
            "memory usage: 26.1+ MB\n"
          ],
          "name": "stdout"
        }
      ]
    },
    {
      "cell_type": "code",
      "metadata": {
        "id": "-4bPiWv6ogdw",
        "colab_type": "code",
        "colab": {
          "base_uri": "https://localhost:8080/",
          "height": 306
        },
        "outputId": "052be0f4-89fe-4233-d12c-6d5c0ef175d7"
      },
      "source": [
        "df.isnull().sum()"
      ],
      "execution_count": 63,
      "outputs": [
        {
          "output_type": "execute_result",
          "data": {
            "text/plain": [
              "id                              0\n",
              "date_account_created            0\n",
              "timestamp_first_active          0\n",
              "date_first_booking         124543\n",
              "gender                          0\n",
              "age                         87990\n",
              "signup_method                   0\n",
              "signup_flow                     0\n",
              "language                        0\n",
              "affiliate_channel               0\n",
              "affiliate_provider              0\n",
              "first_affiliate_tracked      6065\n",
              "signup_app                      0\n",
              "first_device_type               0\n",
              "first_browser                   0\n",
              "country_destination             0\n",
              "dtype: int64"
            ]
          },
          "metadata": {
            "tags": []
          },
          "execution_count": 63
        }
      ]
    },
    {
      "cell_type": "markdown",
      "metadata": {
        "id": "OFP0XHk2o6s8",
        "colab_type": "text"
      },
      "source": [
        "## Data Cleaning"
      ]
    },
    {
      "cell_type": "markdown",
      "metadata": {
        "id": "kulIlqm8pNYa",
        "colab_type": "text"
      },
      "source": [
        "### 1)Gender"
      ]
    },
    {
      "cell_type": "code",
      "metadata": {
        "id": "2Pe2owzHolcb",
        "colab_type": "code",
        "colab": {}
      },
      "source": [
        "# Replacing gender values which are not presnet to Nan\n",
        "df.gender.replace('-unknown-',np.nan, inplace= True)"
      ],
      "execution_count": 0,
      "outputs": []
    },
    {
      "cell_type": "code",
      "metadata": {
        "id": "9KwT1p0BpnyX",
        "colab_type": "code",
        "colab": {
          "base_uri": "https://localhost:8080/",
          "height": 224
        },
        "outputId": "16ca9b67-7163-42de-d7bb-943ade06bdea"
      },
      "source": [
        "df.head()"
      ],
      "execution_count": 65,
      "outputs": [
        {
          "output_type": "execute_result",
          "data": {
            "text/html": [
              "<div>\n",
              "<style scoped>\n",
              "    .dataframe tbody tr th:only-of-type {\n",
              "        vertical-align: middle;\n",
              "    }\n",
              "\n",
              "    .dataframe tbody tr th {\n",
              "        vertical-align: top;\n",
              "    }\n",
              "\n",
              "    .dataframe thead th {\n",
              "        text-align: right;\n",
              "    }\n",
              "</style>\n",
              "<table border=\"1\" class=\"dataframe\">\n",
              "  <thead>\n",
              "    <tr style=\"text-align: right;\">\n",
              "      <th></th>\n",
              "      <th>id</th>\n",
              "      <th>date_account_created</th>\n",
              "      <th>timestamp_first_active</th>\n",
              "      <th>date_first_booking</th>\n",
              "      <th>gender</th>\n",
              "      <th>age</th>\n",
              "      <th>signup_method</th>\n",
              "      <th>signup_flow</th>\n",
              "      <th>language</th>\n",
              "      <th>affiliate_channel</th>\n",
              "      <th>affiliate_provider</th>\n",
              "      <th>first_affiliate_tracked</th>\n",
              "      <th>signup_app</th>\n",
              "      <th>first_device_type</th>\n",
              "      <th>first_browser</th>\n",
              "      <th>country_destination</th>\n",
              "    </tr>\n",
              "  </thead>\n",
              "  <tbody>\n",
              "    <tr>\n",
              "      <th>0</th>\n",
              "      <td>gxn3p5htnn</td>\n",
              "      <td>6/28/10</td>\n",
              "      <td>2.009030e+13</td>\n",
              "      <td>NaN</td>\n",
              "      <td>NaN</td>\n",
              "      <td>NaN</td>\n",
              "      <td>facebook</td>\n",
              "      <td>0</td>\n",
              "      <td>en</td>\n",
              "      <td>direct</td>\n",
              "      <td>direct</td>\n",
              "      <td>untracked</td>\n",
              "      <td>Web</td>\n",
              "      <td>Mac Desktop</td>\n",
              "      <td>Chrome</td>\n",
              "      <td>NDF</td>\n",
              "    </tr>\n",
              "    <tr>\n",
              "      <th>1</th>\n",
              "      <td>820tgsjxq7</td>\n",
              "      <td>5/25/11</td>\n",
              "      <td>2.009050e+13</td>\n",
              "      <td>NaN</td>\n",
              "      <td>MALE</td>\n",
              "      <td>38.0</td>\n",
              "      <td>facebook</td>\n",
              "      <td>0</td>\n",
              "      <td>en</td>\n",
              "      <td>seo</td>\n",
              "      <td>google</td>\n",
              "      <td>untracked</td>\n",
              "      <td>Web</td>\n",
              "      <td>Mac Desktop</td>\n",
              "      <td>Chrome</td>\n",
              "      <td>NDF</td>\n",
              "    </tr>\n",
              "    <tr>\n",
              "      <th>2</th>\n",
              "      <td>4ft3gnwmtx</td>\n",
              "      <td>9/28/10</td>\n",
              "      <td>2.009060e+13</td>\n",
              "      <td>8/2/10</td>\n",
              "      <td>FEMALE</td>\n",
              "      <td>56.0</td>\n",
              "      <td>basic</td>\n",
              "      <td>3</td>\n",
              "      <td>en</td>\n",
              "      <td>direct</td>\n",
              "      <td>direct</td>\n",
              "      <td>untracked</td>\n",
              "      <td>Web</td>\n",
              "      <td>Windows Desktop</td>\n",
              "      <td>IE</td>\n",
              "      <td>US</td>\n",
              "    </tr>\n",
              "    <tr>\n",
              "      <th>3</th>\n",
              "      <td>bjjt8pjhuk</td>\n",
              "      <td>12/5/11</td>\n",
              "      <td>2.009100e+13</td>\n",
              "      <td>9/8/12</td>\n",
              "      <td>FEMALE</td>\n",
              "      <td>42.0</td>\n",
              "      <td>facebook</td>\n",
              "      <td>0</td>\n",
              "      <td>en</td>\n",
              "      <td>direct</td>\n",
              "      <td>direct</td>\n",
              "      <td>untracked</td>\n",
              "      <td>Web</td>\n",
              "      <td>Mac Desktop</td>\n",
              "      <td>Firefox</td>\n",
              "      <td>other</td>\n",
              "    </tr>\n",
              "    <tr>\n",
              "      <th>4</th>\n",
              "      <td>87mebub9p4</td>\n",
              "      <td>9/14/10</td>\n",
              "      <td>2.009120e+13</td>\n",
              "      <td>2/18/10</td>\n",
              "      <td>NaN</td>\n",
              "      <td>41.0</td>\n",
              "      <td>basic</td>\n",
              "      <td>0</td>\n",
              "      <td>en</td>\n",
              "      <td>direct</td>\n",
              "      <td>direct</td>\n",
              "      <td>untracked</td>\n",
              "      <td>Web</td>\n",
              "      <td>Mac Desktop</td>\n",
              "      <td>Chrome</td>\n",
              "      <td>US</td>\n",
              "    </tr>\n",
              "  </tbody>\n",
              "</table>\n",
              "</div>"
            ],
            "text/plain": [
              "           id date_account_created  timestamp_first_active date_first_booking  \\\n",
              "0  gxn3p5htnn              6/28/10            2.009030e+13                NaN   \n",
              "1  820tgsjxq7              5/25/11            2.009050e+13                NaN   \n",
              "2  4ft3gnwmtx              9/28/10            2.009060e+13             8/2/10   \n",
              "3  bjjt8pjhuk              12/5/11            2.009100e+13             9/8/12   \n",
              "4  87mebub9p4              9/14/10            2.009120e+13            2/18/10   \n",
              "\n",
              "   gender   age signup_method  signup_flow language affiliate_channel  \\\n",
              "0     NaN   NaN      facebook            0       en            direct   \n",
              "1    MALE  38.0      facebook            0       en               seo   \n",
              "2  FEMALE  56.0         basic            3       en            direct   \n",
              "3  FEMALE  42.0      facebook            0       en            direct   \n",
              "4     NaN  41.0         basic            0       en            direct   \n",
              "\n",
              "  affiliate_provider first_affiliate_tracked signup_app first_device_type  \\\n",
              "0             direct               untracked        Web       Mac Desktop   \n",
              "1             google               untracked        Web       Mac Desktop   \n",
              "2             direct               untracked        Web   Windows Desktop   \n",
              "3             direct               untracked        Web       Mac Desktop   \n",
              "4             direct               untracked        Web       Mac Desktop   \n",
              "\n",
              "  first_browser country_destination  \n",
              "0        Chrome                 NDF  \n",
              "1        Chrome                 NDF  \n",
              "2            IE                  US  \n",
              "3       Firefox               other  \n",
              "4        Chrome                  US  "
            ]
          },
          "metadata": {
            "tags": []
          },
          "execution_count": 65
        }
      ]
    },
    {
      "cell_type": "markdown",
      "metadata": {
        "id": "f1zpPnF4qKim",
        "colab_type": "text"
      },
      "source": [
        "### 2)Age"
      ]
    },
    {
      "cell_type": "code",
      "metadata": {
        "id": "GyFWquHBppLC",
        "colab_type": "code",
        "colab": {}
      },
      "source": [
        "age = df['age']\n",
        "age.fillna(-1, inplace = True)"
      ],
      "execution_count": 0,
      "outputs": []
    },
    {
      "cell_type": "code",
      "metadata": {
        "id": "fbvvQJLxqZJB",
        "colab_type": "code",
        "colab": {}
      },
      "source": [
        "## This are birthdays instead of age (estimating age by doing 2016 - value)\n",
        "age = np.where(np.logical_and(age<2013, age>1917), 2017-age, age)\n",
        "\n",
        "## This is the current year insted of age, we also consider this as N/A\n",
        "age = np.where(np.logical_and(age<2016, age>2010), -1, age) "
      ],
      "execution_count": 0,
      "outputs": []
    },
    {
      "cell_type": "code",
      "metadata": {
        "id": "5bQO_huOsOL5",
        "colab_type": "code",
        "colab": {}
      },
      "source": [
        "df['age'] = age"
      ],
      "execution_count": 0,
      "outputs": []
    },
    {
      "cell_type": "code",
      "metadata": {
        "id": "JrJH2WRbsQoN",
        "colab_type": "code",
        "colab": {
          "base_uri": "https://localhost:8080/",
          "height": 306
        },
        "outputId": "9af7a123-e726-490a-cc5a-181bf8c88044"
      },
      "source": [
        "df.isnull().sum()"
      ],
      "execution_count": 75,
      "outputs": [
        {
          "output_type": "execute_result",
          "data": {
            "text/plain": [
              "id                              0\n",
              "date_account_created            0\n",
              "timestamp_first_active          0\n",
              "date_first_booking         124543\n",
              "gender                      95688\n",
              "age                             0\n",
              "signup_method                   0\n",
              "signup_flow                     0\n",
              "language                        0\n",
              "affiliate_channel               0\n",
              "affiliate_provider              0\n",
              "first_affiliate_tracked      6065\n",
              "signup_app                      0\n",
              "first_device_type               0\n",
              "first_browser                   0\n",
              "country_destination             0\n",
              "dtype: int64"
            ]
          },
          "metadata": {
            "tags": []
          },
          "execution_count": 75
        }
      ]
    },
    {
      "cell_type": "markdown",
      "metadata": {
        "id": "1wQtoRKWshZk",
        "colab_type": "text"
      },
      "source": [
        "## EDA"
      ]
    },
    {
      "cell_type": "markdown",
      "metadata": {
        "id": "te7auX2jssXv",
        "colab_type": "text"
      },
      "source": [
        "1) Country Destination"
      ]
    },
    {
      "cell_type": "code",
      "metadata": {
        "id": "9vrToWU4sTcc",
        "colab_type": "code",
        "colab": {
          "base_uri": "https://localhost:8080/",
          "height": 423
        },
        "outputId": "5ce90030-571a-4cea-877f-392d401e50ca"
      },
      "source": [
        "sns.set_style('ticks')\n",
        "fig, ax = plt.subplots()\n",
        "fig.set_size_inches(8, 6)\n",
        "\n",
        "destination_percentage = df.country_destination.value_counts()/ df.shape[0] *100\n",
        "destination_percentage.plot(kind = 'bar', color = 'red')\n",
        "plt.xlabel('Destination Country')\n",
        "plt.ylabel('Percentage')\n",
        "plt.title('Percentage of different countries', size = 15)\n",
        "sns.despine()"
      ],
      "execution_count": 70,
      "outputs": [
        {
          "output_type": "display_data",
          "data": {
            "image/png": "[encoded data removed]",
            "text/plain": [
              "<Figure size 576x432 with 1 Axes>"
            ]
          },
          "metadata": {
            "tags": []
          }
        }
      ]
    },
    {
      "cell_type": "markdown",
      "metadata": {
        "id": "60rd8VqZuw6Y",
        "colab_type": "text"
      },
      "source": [
        "Observation:\n",
        "\n",
        "1. 57% of users did not travel anywhere\n",
        "2. 28% of users travelled in their home country(US)"
      ]
    },
    {
      "cell_type": "markdown",
      "metadata": {
        "id": "Zjy8K6RBVzG3",
        "colab_type": "text"
      },
      "source": [
        "### 3)Device Type"
      ]
    },
    {
      "cell_type": "code",
      "metadata": {
        "id": "qNq3EqEZVypg",
        "colab_type": "code",
        "colab": {
          "base_uri": "https://localhost:8080/",
          "height": 496
        },
        "outputId": "dd47349d-564e-49ba-9652-a892c56ff73c"
      },
      "source": [
        "sns.set_style('ticks')\n",
        "fig, ax = plt.subplots()\n",
        "fig.set_size_inches(8, 6)\n",
        "\n",
        "destination_percentage = df.first_device_type.value_counts()/ df.shape[0] *100\n",
        "destination_percentage.plot(kind = 'bar', color = 'Green')\n",
        "plt.xlabel('Device Type By users')\n",
        "plt.ylabel('Percentage')\n",
        "plt.title('Percentage of different Device Type', size = 15)\n",
        "sns.despine()"
      ],
      "execution_count": 71,
      "outputs": [
        {
          "output_type": "display_data",
          "data": {
            "image/png": "[encoded data removed]",
            "text/plain": [
              "<Figure size 576x432 with 1 Axes>"
            ]
          },
          "metadata": {
            "tags": []
          }
        }
      ]
    },
    {
      "cell_type": "markdown",
      "metadata": {
        "id": "_HepFsJmWQj6",
        "colab_type": "text"
      },
      "source": [
        "Observations:\n",
        "\n",
        "1. Nearly 60% of the users using Apple products.\n",
        "\n",
        "2. 44% which implies Mac users booking more frequently."
      ]
    },
    {
      "cell_type": "markdown",
      "metadata": {
        "id": "a0fHIAxPW8Cw",
        "colab_type": "text"
      },
      "source": [
        "### 3) Age"
      ]
    },
    {
      "cell_type": "code",
      "metadata": {
        "id": "ZZjWXveyuQ0U",
        "colab_type": "code",
        "colab": {
          "base_uri": "https://localhost:8080/",
          "height": 406
        },
        "outputId": "737d98c3-001f-4aee-f60f-cf97a485e09a"
      },
      "source": [
        "sns.set_style('ticks')\n",
        "fig, ax = plt.subplots()\n",
        "fig.set_size_inches(8,6)\n",
        "sns.distplot(df.age.dropna(), color='#16A085')\n",
        "plt.xlabel('PDF of Age')\n",
        "plt.ylabel('percentage')\n",
        "plt.title('Age Distribution', size = 15)\n",
        "sns.despine()"
      ],
      "execution_count": 85,
      "outputs": [
        {
          "output_type": "display_data",
          "data": {
            "image/png": "[encoded data removed]",
            "text/plain": [
              "<Figure size 576x432 with 1 Axes>"
            ]
          },
          "metadata": {
            "tags": []
          }
        }
      ]
    },
    {
      "cell_type": "markdown",
      "metadata": {
        "id": "pLwJTPnpaCg_",
        "colab_type": "text"
      },
      "source": [
        "Obervations:\n",
        "\n",
        "1. Majority of the users are between age 25 and 40 years.\n",
        "\n",
        "2. There are some age values which are less than 18 years old."
      ]
    },
    {
      "cell_type": "markdown",
      "metadata": {
        "id": "zzDA5569aU6h",
        "colab_type": "text"
      },
      "source": [
        "### 4)Age vs Contry Destination"
      ]
    },
    {
      "cell_type": "code",
      "metadata": {
        "id": "V_7k2TgOaUc2",
        "colab_type": "code",
        "colab": {
          "base_uri": "https://localhost:8080/",
          "height": 406
        },
        "outputId": "8799ce40-ec41-4ea6-db03-36a8f1666a0c"
      },
      "source": [
        "sns.set_style('ticks')\n",
        "fig, ax = plt.subplots()\n",
        "fig.set_size_inches(8,6)\n",
        "\n",
        "data_without_NDF = df[df['country_destination']!= 'US']\n",
        "data_without_NDF1 = data_without_NDF[data_without_NDF['country_destination'] != 'NDF']\n",
        "sns.boxplot(y = 'age', x= 'country_destination', data = data_without_NDF1)\n",
        "plt.xlabel('Destianiton Country box plot(removed )')\n",
        "plt.ylabel('Age of Users')\n",
        "plt.title('Age vs Contry Destination', size = 15)\n",
        "\n",
        "sns.despine()"
      ],
      "execution_count": 77,
      "outputs": [
        {
          "output_type": "display_data",
          "data": {
            "image/png": "[encoded data removed]",
            "text/plain": [
              "<Figure size 576x432 with 1 Axes>"
            ]
          },
          "metadata": {
            "tags": []
          }
        }
      ]
    },
    {
      "cell_type": "markdown",
      "metadata": {
        "id": "rQilrnORfIeb",
        "colab_type": "text"
      },
      "source": [
        "### 5) Language Distribution"
      ]
    },
    {
      "cell_type": "code",
      "metadata": {
        "id": "HzT7mw0We1MG",
        "colab_type": "code",
        "colab": {
          "base_uri": "https://localhost:8080/",
          "height": 409
        },
        "outputId": "57031406-13da-4eae-fbe7-5ae74e64f63a"
      },
      "source": [
        "sns.set_style('ticks')\n",
        "fig, ax = plt.subplots()\n",
        "fig.set_size_inches(8, 6)\n",
        "\n",
        "destination_percentage = df.language.value_counts()/ df.shape[0] *100\n",
        "destination_percentage.plot(kind = 'bar', color = 'orange')\n",
        "plt.xlabel('Device Type By Language')\n",
        "plt.ylabel('Percentage')\n",
        "plt.title('Percentage of different Language', size = 15)\n",
        "sns.despine()"
      ],
      "execution_count": 81,
      "outputs": [
        {
          "output_type": "display_data",
          "data": {
            "image/png": "[encoded data removed]",
            "text/plain": [
              "<Figure size 576x432 with 1 Axes>"
            ]
          },
          "metadata": {
            "tags": []
          }
        }
      ]
    },
    {
      "cell_type": "markdown",
      "metadata": {
        "id": "Ik3hxW3ufj0g",
        "colab_type": "text"
      },
      "source": [
        "Observation: \n",
        "\n",
        "More than 95% of the users using English as their language.But it is still questionable because most of users are from U.S"
      ]
    },
    {
      "cell_type": "markdown",
      "metadata": {
        "id": "tcWJaiIyg0Po",
        "colab_type": "text"
      },
      "source": [
        "### 6)Sign Up App:"
      ]
    },
    {
      "cell_type": "code",
      "metadata": {
        "id": "WS4aUEt6fjWX",
        "colab_type": "code",
        "colab": {
          "base_uri": "https://localhost:8080/",
          "height": 406
        },
        "outputId": "c7b51460-446e-4dab-e772-73c9fbe42753"
      },
      "source": [
        "sns.set_style('ticks')\n",
        "fig, ax = plt.subplots()\n",
        "fig.set_size_inches(10, 6)\n",
        "\n",
        "sns.countplot(x = 'country_destination', hue = 'signup_app', data = data_without_NDF1)\n",
        "\n",
        "plt.xlabel('Destination Country based on signup app')\n",
        "plt.ylabel('Number of users')\n",
        "plt.title('Percentage of users vs. signup_app, country', size = 15)\n",
        "sns.despine()"
      ],
      "execution_count": 83,
      "outputs": [
        {
          "output_type": "display_data",
          "data": {
            "image/png": "[encoded data removed]",
            "text/plain": [
              "<Figure size 720x432 with 1 Axes>"
            ]
          },
          "metadata": {
            "tags": []
          }
        }
      ]
    },
    {
      "cell_type": "markdown",
      "metadata": {
        "id": "LhcmIVw0iF7E",
        "colab_type": "text"
      },
      "source": [
        "Observation:\n",
        "\n",
        "1.Users with sign up app'Web\" Outnumber than Other sign up method like Moweb, IOS, Android in every country.\n",
        "\n",
        "2.Android is the lest used sign up app."
      ]
    },
    {
      "cell_type": "markdown",
      "metadata": {
        "id": "4ep2Xha9mLAV",
        "colab_type": "text"
      },
      "source": [
        "### 7) Affiliate Provider"
      ]
    },
    {
      "cell_type": "code",
      "metadata": {
        "id": "XhDmyzIZfawW",
        "colab_type": "code",
        "colab": {
          "base_uri": "https://localhost:8080/",
          "height": 629
        },
        "outputId": "d7ca397f-b7d5-4f8d-d395-0717a0053b4e"
      },
      "source": [
        "sns.set_style('ticks')\n",
        "fig, ax = plt.subplots()\n",
        "fig.set_size_inches(11.7, 8.27)\n",
        "affiliate_provider_percentage = df.affiliate_provider.value_counts() / df.shape[0] * 100\n",
        "affiliate_provider_percentage.plot(kind='bar',color='#CB4335')\n",
        "plt.xlabel('Percentage of users based on affiliate providers ')\n",
        "plt.ylabel('Percentage')\n",
        "plt.title('Number of users of different affiliate_provider', size=20)\n",
        "sns.despine()"
      ],
      "execution_count": 86,
      "outputs": [
        {
          "output_type": "display_data",
          "data": {
            "image/png": "[encoded data removed]",
            "text/plain": [
              "<Figure size 842.4x595.44 with 1 Axes>"
            ]
          },
          "metadata": {
            "tags": []
          }
        }
      ]
    },
    {
      "cell_type": "markdown",
      "metadata": {
        "id": "os1vVFyimXNr",
        "colab_type": "text"
      },
      "source": [
        "Observations :\n",
        "\n",
        "In previous plot we have observed that percentage of users signing up with google are 0.03% , but in this plot we  observe that most of users are coming  from google (22%)\n"
      ]
    },
    {
      "cell_type": "code",
      "metadata": {
        "id": "0BC9xx6AmRzQ",
        "colab_type": "code",
        "colab": {}
      },
      "source": [
        ""
      ],
      "execution_count": 0,
      "outputs": []
    }
  ]
}