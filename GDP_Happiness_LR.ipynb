{
  "nbformat": 4,
  "nbformat_minor": 0,
  "metadata": {
    "colab": {
      "name": "GDP_Happiness_LR.ipynb",
      "provenance": [],
      "authorship_tag": "ABX9TyO2fsV/rg7BVTmgyL4hRUxx",
      "include_colab_link": true
    },
    "kernelspec": {
      "name": "python3",
      "display_name": "Python 3"
    }
  },
  "cells": [
    {
      "cell_type": "markdown",
      "metadata": {
        "id": "view-in-github",
        "colab_type": "text"
      },
      "source": [
        "<a href=\"https://colab.research.google.com/github/fwang312/Airbnb-User-Booking/blob/master/GDP_Happiness_LR.ipynb\" target=\"_parent\"><img src=\"https://colab.research.google.com/assets/colab-badge.svg\" alt=\"Open In Colab\"/></a>"
      ]
    },
    {
      "cell_type": "code",
      "metadata": {
        "id": "wQ08-A15sGWg",
        "colab_type": "code",
        "colab": {
          "base_uri": "https://localhost:8080/",
          "height": 122
        },
        "outputId": "4dd510be-803f-4503-cbb4-74eb5b3c7873"
      },
      "source": [
        "from google.colab import drive\n",
        "drive.mount('/content/drive')"
      ],
      "execution_count": 2,
      "outputs": [
        {
          "output_type": "stream",
          "text": [
            "Go to this URL in a browser: https://accounts.google.com/o/oauth2/auth?client_id=947318989803-6bn6qk8qdgf4n4g3pfee6491hc0brc4i.apps.googleusercontent.com&redirect_uri=urn%3aietf%3awg%3aoauth%3a2.0%3aoob&response_type=code&scope=email%20https%3a%2f%2fwww.googleapis.com%2fauth%2fdocs.test%20https%3a%2f%2fwww.googleapis.com%2fauth%2fdrive%20https%3a%2f%2fwww.googleapis.com%2fauth%2fdrive.photos.readonly%20https%3a%2f%2fwww.googleapis.com%2fauth%2fpeopleapi.readonly\n",
            "\n",
            "Enter your authorization code:\n",
            "··········\n",
            "Mounted at /content/drive\n"
          ],
          "name": "stdout"
        }
      ]
    },
    {
      "cell_type": "code",
      "metadata": {
        "id": "tFYffwkdtL6w",
        "colab_type": "code",
        "colab": {
          "base_uri": "https://localhost:8080/",
          "height": 34
        },
        "outputId": "77a9745f-8bb7-4428-ff27-fb9bf7685dd4"
      },
      "source": [
        "import os\n",
        "os.chdir(\"/content/drive/My Drive/Hands on ML/book/datasets/lifesat\")\n",
        "!ls"
      ],
      "execution_count": 16,
      "outputs": [
        {
          "output_type": "stream",
          "text": [
            "gdp_per_capita.csv  oecd_bli_2015.csv  README.md\n"
          ],
          "name": "stdout"
        }
      ]
    },
    {
      "cell_type": "code",
      "metadata": {
        "id": "VKEY9_Bxtftb",
        "colab_type": "code",
        "colab": {}
      },
      "source": [
        "import matplotlib.pyplot as plt\n",
        "import numpy as np\n",
        "import pandas as pd\n",
        "import sklearn.linear_model"
      ],
      "execution_count": 0,
      "outputs": []
    },
    {
      "cell_type": "code",
      "metadata": {
        "id": "UGyTeofXuj0C",
        "colab_type": "code",
        "colab": {}
      },
      "source": [
        "#Load the data\n",
        "oecd_bli = pd.read_csv('oecd_bli_2015.csv', thousands=',')\n",
        "gdp_per_capita = pd.read_csv('gdp_per_capita.csv', thousands=',', delimiter = '\\t',encoding='latin1',na_values='n/a')"
      ],
      "execution_count": 0,
      "outputs": []
    },
    {
      "cell_type": "code",
      "metadata": {
        "id": "Fskhhj99u-Cw",
        "colab_type": "code",
        "colab": {}
      },
      "source": [
        "#prepare the data\n",
        "def prepare_country_stats(oecd_bli, gdp_per_capita):\n",
        "    #get the pandas dataframe of GDP per capita and Life satisfaction\n",
        "    oecd_bli = oecd_bli[oecd_bli[\"INEQUALITY\"]==\"TOT\"]\n",
        "    oecd_bli = oecd_bli.pivot(index=\"Country\", columns=\"Indicator\", values=\"Value\")\n",
        "    gdp_per_capita.rename(columns={\"2015\": \"GDP per capita\"}, inplace=True)\n",
        "    gdp_per_capita.set_index(\"Country\", inplace=True)\n",
        "    full_country_stats = pd.merge(left=oecd_bli, right=gdp_per_capita, left_index=True, right_index=True)\n",
        "    return full_country_stats[[\"GDP per capita\", 'Life satisfaction']]\n",
        "    \n",
        "country_stats = prepare_country_stats(oecd_bli, gdp_per_capita) "
      ],
      "execution_count": 0,
      "outputs": []
    },
    {
      "cell_type": "code",
      "metadata": {
        "id": "TJHFialvxsri",
        "colab_type": "code",
        "colab": {}
      },
      "source": [
        "country_stats.to_csv('country_stats.csv',encoding='utf-8')\n",
        "X = np.c_[country_stats[\"GDP per capita\"]]\n",
        "y = np.c_[country_stats[\"Life satisfaction\"]]"
      ],
      "execution_count": 0,
      "outputs": []
    },
    {
      "cell_type": "code",
      "metadata": {
        "id": "nBr4Yt4ryCLJ",
        "colab_type": "code",
        "colab": {
          "base_uri": "https://localhost:8080/",
          "height": 279
        },
        "outputId": "50d3b83a-f627-49fb-ae03-4081a4cb9be1"
      },
      "source": [
        "# Visualize the data\n",
        "country_stats.plot(kind = 'scatter', x = 'GDP per capita', y = 'Life satisfaction')\n",
        "plt.show()"
      ],
      "execution_count": 39,
      "outputs": [
        {
          "output_type": "display_data",
          "data": {
            "image/png": "[encoded data removed]",
            "text/plain": [
              "<Figure size 432x288 with 1 Axes>"
            ]
          },
          "metadata": {
            "tags": []
          }
        }
      ]
    },
    {
      "cell_type": "code",
      "metadata": {
        "id": "fk5HABb4yrXc",
        "colab_type": "code",
        "colab": {}
      },
      "source": [
        "# Slect a Linear model\n",
        "model = sklearn.linear_model.LinearRegression()"
      ],
      "execution_count": 0,
      "outputs": []
    },
    {
      "cell_type": "code",
      "metadata": {
        "id": "9U48xYb61kN2",
        "colab_type": "code",
        "colab": {
          "base_uri": "https://localhost:8080/",
          "height": 34
        },
        "outputId": "afad8843-c4ce-4766-8a81-46d790a3c572"
      },
      "source": [
        "# Train the model\n",
        "model.fit(X, y)"
      ],
      "execution_count": 45,
      "outputs": [
        {
          "output_type": "execute_result",
          "data": {
            "text/plain": [
              "LinearRegression(copy_X=True, fit_intercept=True, n_jobs=None, normalize=False)"
            ]
          },
          "metadata": {
            "tags": []
          },
          "execution_count": 45
        }
      ]
    },
    {
      "cell_type": "code",
      "metadata": {
        "id": "w0B0oBL638EN",
        "colab_type": "code",
        "colab": {
          "base_uri": "https://localhost:8080/",
          "height": 265
        },
        "outputId": "5f62d3ab-a2d0-433a-9361-2f03d9b40846"
      },
      "source": [
        "#plot Regression model\n",
        "t0, t1 = model.intercept_[0], model.coef_[0][0]\n",
        "X = np.linspace(0, 110000, 1000)\n",
        "plt.plot(X, t0 + t1 * X, \"k\")\n",
        "plt.show()"
      ],
      "execution_count": 50,
      "outputs": [
        {
          "output_type": "display_data",
          "data": {
            "image/png": "[encoded data removed]",
            "text/plain": [
              "<Figure size 432x288 with 1 Axes>"
            ]
          },
          "metadata": {
            "tags": []
          }
        }
      ]
    },
    {
      "cell_type": "code",
      "metadata": {
        "id": "fAimqEP82PQz",
        "colab_type": "code",
        "colab": {
          "base_uri": "https://localhost:8080/",
          "height": 34
        },
        "outputId": "c6db471c-8daa-4a0e-f51c-2d28e2d284b0"
      },
      "source": [
        "# Make a prediction for Cyprus\n",
        "X_new = [[22587]]\n",
        "print(model.predict(X_new))"
      ],
      "execution_count": 49,
      "outputs": [
        {
          "output_type": "stream",
          "text": [
            "[[6.28653637]]\n"
          ],
          "name": "stdout"
        }
      ]
    }
  ]
}